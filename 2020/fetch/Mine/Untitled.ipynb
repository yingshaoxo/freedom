{
 "cells": [
  {
   "cell_type": "code",
   "execution_count": 1,
   "metadata": {},
   "outputs": [],
   "source": [
    "import os\n",
    "import json\n",
    "import sqlite3"
   ]
  },
  {
   "cell_type": "code",
   "execution_count": 2,
   "metadata": {},
   "outputs": [],
   "source": [
    "db_file = os.path.abspath(\"../../server/yourdata.db\")"
   ]
  },
  {
   "cell_type": "markdown",
   "metadata": {},
   "source": [
    "## export data to json"
   ]
  },
  {
   "cell_type": "code",
   "execution_count": 3,
   "metadata": {},
   "outputs": [],
   "source": [
    "class Self():\n",
    "    pass\n",
    "\n",
    "self = Self()\n",
    "self.SQL_DATA_FILE = db_file\n",
    "if not os.path.exists(self.SQL_DATA_FILE):\n",
    "    print(f\"SQL doesn't exist: {self.SQL_DATA_FILE}\")\n",
    "    print(f\"We'll create a new one!\")\n",
    "self._sql_conn = sqlite3.connect(self.SQL_DATA_FILE, check_same_thread=False)\n",
    "self._sql_cursor = self._sql_conn.cursor()\n",
    "\n",
    "days = []\n",
    "days2 = []\n",
    "for row in self._sql_cursor.execute('SELECT * FROM thoughts ORDER BY date'):\n",
    "    if row[1] == \"mine\":\n",
    "        if \" \" in row[0]:\n",
    "            if \".\" in row[0]:\n",
    "                date = row[0].split(\".\")[0]\n",
    "            else:\n",
    "                date = row[0]\n",
    "            row = (date, row[1], row[2], row[3])\n",
    "            days.append(list(row))\n",
    "            days2.append([row[0], \"\", row[2], \"\"])\n",
    "\n",
    "text = json.dumps(days, indent=4)\n",
    "with open(\"mine.json\", \"w\") as f:\n",
    "    f.write(text)\n",
    "text2 = json.dumps(days2, indent=4)\n",
    "with open(\"mine2.json\", \"w\") as f:\n",
    "    f.write(text2)"
   ]
  },
  {
   "cell_type": "markdown",
   "metadata": {},
   "source": [
    "## export data to database"
   ]
  },
  {
   "cell_type": "code",
   "execution_count": 4,
   "metadata": {},
   "outputs": [],
   "source": [
    "with open(\"mine.json\", \"r\") as f:\n",
    "    text = f.read()\n",
    "days = json.loads(text)"
   ]
  },
  {
   "cell_type": "code",
   "execution_count": 5,
   "metadata": {},
   "outputs": [],
   "source": [
    "!rm mine.db"
   ]
  },
  {
   "cell_type": "code",
   "execution_count": null,
   "metadata": {},
   "outputs": [
    {
     "name": "stdout",
     "output_type": "stream",
     "text": [
      "SQL doesn't exist: ./mine.db\n",
      "We'll create a new one!\n"
     ]
    }
   ],
   "source": [
    "class Self():\n",
    "    pass\n",
    "\n",
    "self = Self()\n",
    "self.SQL_DATA_FILE = \"./mine.db\"\n",
    "if not os.path.exists(self.SQL_DATA_FILE):\n",
    "    print(f\"SQL doesn't exist: {self.SQL_DATA_FILE}\")\n",
    "    print(f\"We'll create a new one!\")\n",
    "self._sql_conn = sqlite3.connect(self.SQL_DATA_FILE, check_same_thread=False)\n",
    "self._sql_cursor = self._sql_conn.cursor()\n",
    "self._sql_cursor.execute('''CREATE TABLE IF NOT EXISTS thoughts\n",
    "        (date TEXT, type TEXT, text TEXT, images TEXT)''')\n",
    "\n",
    "for day in days:\n",
    "    self._sql_cursor.execute(\"INSERT INTO thoughts VALUES (?,?,?,?)\", day)\n",
    "    self._sql_conn.commit()"
   ]
  },
  {
   "cell_type": "code",
   "execution_count": null,
   "metadata": {},
   "outputs": [],
   "source": []
  }
 ],
 "metadata": {
  "kernelspec": {
   "display_name": "Python 3",
   "language": "python",
   "name": "python3"
  },
  "language_info": {
   "codemirror_mode": {
    "name": "ipython",
    "version": 3
   },
   "file_extension": ".py",
   "mimetype": "text/x-python",
   "name": "python",
   "nbconvert_exporter": "python",
   "pygments_lexer": "ipython3",
   "version": "3.8.5"
  }
 },
 "nbformat": 4,
 "nbformat_minor": 2
}
