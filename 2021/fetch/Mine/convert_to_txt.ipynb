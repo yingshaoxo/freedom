{
 "cells": [
  {
   "cell_type": "code",
   "execution_count": 38,
   "id": "eb3ce1a7-b733-418f-b07b-b84a91549496",
   "metadata": {},
   "outputs": [],
   "source": [
    "import json"
   ]
  },
  {
   "cell_type": "code",
   "execution_count": 39,
   "id": "2e7eb8de-b23d-4ea7-9192-3b350c16c693",
   "metadata": {},
   "outputs": [],
   "source": [
    "with open(\"database.json\", \"r\") as f:\n",
    "    text = f.read()"
   ]
  },
  {
   "cell_type": "code",
   "execution_count": 40,
   "id": "ce73f23d-9b0b-461c-8373-3de5772f2ebd",
   "metadata": {},
   "outputs": [],
   "source": [
    "json_object = json.loads(text)"
   ]
  },
  {
   "cell_type": "code",
   "execution_count": 41,
   "id": "949b48df-98e9-453c-b22f-cdaab4985546",
   "metadata": {},
   "outputs": [
    {
     "data": {
      "text/plain": [
       "{'type': 'kivydiary',\n",
       " 'date': '2017-12-01 00:00:00',\n",
       " 'content': \"I don't learn everything that I won't use again.\",\n",
       " 'images': []}"
      ]
     },
     "execution_count": 41,
     "metadata": {},
     "output_type": "execute_result"
    }
   ],
   "source": [
    "json_object[0]"
   ]
  },
  {
   "cell_type": "code",
   "execution_count": 42,
   "id": "a7752ea6-62a1-4891-a25b-b61e49c924c6",
   "metadata": {},
   "outputs": [],
   "source": [
    "new_list = []"
   ]
  },
  {
   "cell_type": "code",
   "execution_count": 43,
   "id": "f1124c3b-4c65-468e-b403-28e24d72fb66",
   "metadata": {},
   "outputs": [],
   "source": [
    "for one in json_object:\n",
    "    if one[\"type\"] != \"qzone\":\n",
    "        new_list.append(one[\"content\"])"
   ]
  },
  {
   "cell_type": "code",
   "execution_count": 44,
   "id": "d04129d1-bc7b-4127-bd26-bc0c2691dabf",
   "metadata": {},
   "outputs": [],
   "source": [
    "seperator = \"\\n\\n\\n__**__**__yingshaoxo_is_the_top_one__**__**__\\n\\n\\n\""
   ]
  },
  {
   "cell_type": "code",
   "execution_count": null,
   "id": "855f978a-4241-480b-9cdf-a2bc982223a7",
   "metadata": {},
   "outputs": [],
   "source": []
  },
  {
   "cell_type": "code",
   "execution_count": 45,
   "id": "19eb175e-2d6e-4ecc-bb31-72e777df8267",
   "metadata": {},
   "outputs": [],
   "source": [
    "new_text = seperator.join(new_list)"
   ]
  },
  {
   "cell_type": "code",
   "execution_count": 46,
   "id": "19e61df7-ae97-4528-a828-543c32ab03f2",
   "metadata": {},
   "outputs": [],
   "source": [
    "with open(\"all_yingshaoxo_data_2023_11_13.txt\", \"w\", encoding=\"utf-8\", errors=\"ignore\") as f:\n",
    "    f.write(new_text)"
   ]
  },
  {
   "cell_type": "code",
   "execution_count": null,
   "id": "0c0357b3-1db6-4b20-ba50-3d7280bfe491",
   "metadata": {},
   "outputs": [],
   "source": []
  }
 ],
 "metadata": {
  "kernelspec": {
   "display_name": "Python 3 (ipykernel)",
   "language": "python",
   "name": "python3"
  },
  "language_info": {
   "codemirror_mode": {
    "name": "ipython",
    "version": 3
   },
   "file_extension": ".py",
   "mimetype": "text/x-python",
   "name": "python",
   "nbconvert_exporter": "python",
   "pygments_lexer": "ipython3",
   "version": "3.10.9"
  }
 },
 "nbformat": 4,
 "nbformat_minor": 5
}
